{
 "cells": [
  {
   "cell_type": "code",
   "execution_count": 1,
   "metadata": {},
   "outputs": [],
   "source": [
    "import pandas as pd\n",
    "import numpy as np\n",
    "import random\n",
    "import itertools\n",
    "from itertools import count"
   ]
  },
  {
   "cell_type": "code",
   "execution_count": 2,
   "metadata": {},
   "outputs": [
    {
     "name": "stdout",
     "output_type": "stream",
     "text": [
      "[-1, 2, 3, 4, 2]\n",
      "[-1, 2, 3, 4, 2]\n"
     ]
    }
   ],
   "source": [
    "#1st\n",
    "#a\n",
    "a = [-1,2,3,4,2,1,7]\n",
    "print(a[0:5])\n",
    "#or\n",
    "print(a[:5])"
   ]
  },
  {
   "cell_type": "code",
   "execution_count": 3,
   "metadata": {},
   "outputs": [
    {
     "name": "stdout",
     "output_type": "stream",
     "text": [
      "[1, 2, 3, 4, 7, -1]\n",
      "[-1  1  2  3  4  7]\n",
      "[-1, 2, 3, 4, 1, 7]\n"
     ]
    }
   ],
   "source": [
    "#1st\n",
    "#b\n",
    "a = [-1,2,3,4,2,1,7]\n",
    "prime = set(a)\n",
    "my_newprime = list(prime)\n",
    "print(my_newprime)\n",
    "#or\n",
    "new_arr = np.unique(a)\n",
    "print(new_arr)\n",
    "#or\n",
    "empty_arr=[]\n",
    "for i in a:\n",
    "    if i not in empty_arr:\n",
    "        empty_arr.append(i)\n",
    "print(empty_arr)"
   ]
  },
  {
   "cell_type": "code",
   "execution_count": 4,
   "metadata": {},
   "outputs": [
    {
     "name": "stdout",
     "output_type": "stream",
     "text": [
      "[-1, 1, 2, 3, 4, 7]\n",
      "[-1, 1, 2, 3, 4, 7]\n",
      "[-1, 1, 2, 3, 4, 7]\n"
     ]
    }
   ],
   "source": [
    "#1st\n",
    "#c\n",
    "print(sorted(my_newprime))\n",
    "print(sorted(new_arr))\n",
    "print(sorted(empty_arr))"
   ]
  },
  {
   "cell_type": "code",
   "execution_count": 5,
   "metadata": {},
   "outputs": [
    {
     "name": "stdout",
     "output_type": "stream",
     "text": [
      "['Peter Jensen', 'Christian Smith', 'Klaus Nistrup']\n"
     ]
    }
   ],
   "source": [
    "#2nd\n",
    "First_names = [\"Peter\", \"Christian\", \"Klaus\"]\n",
    "Last_names = [\"Jensen\", \"Smith\", \"Nistrup\"]\n",
    "Names = ([m+\" \"+n for m,n in zip(First_names,Last_names)])\n",
    "print(Names)"
   ]
  },
  {
   "cell_type": "code",
   "execution_count": 6,
   "metadata": {},
   "outputs": [
    {
     "name": "stdout",
     "output_type": "stream",
     "text": [
      "Game 1:Team 1-Team 2\n",
      "Game 2:Team 1-Team 3\n",
      "Game 3:Team 1-Team 4\n",
      "Game 4:Team 2-Team 1\n",
      "Game 5:Team 2-Team 3\n",
      "Game 6:Team 2-Team 4\n",
      "Game 7:Team 3-Team 1\n",
      "Game 8:Team 3-Team 2\n",
      "Game 9:Team 3-Team 4\n",
      "Game 10:Team 4-Team 1\n",
      "Game 11:Team 4-Team 2\n",
      "Game 12:Team 4-Team 3\n"
     ]
    }
   ],
   "source": [
    "#3rd\n",
    "Friends = [\"Team 1\", \"Team 2\", \"Team 3\", \"Team 4\"]\n",
    "count_3 = 0\n",
    "for i in Friends:\n",
    "    for j in Friends:\n",
    "        if i!=j:\n",
    "            count_3 = count_3 + 1 \n",
    "            ena = enumerate(Friends, start=1)\n",
    "            print(f\"Game {count_3}:\"+i+\"-\"+j)\n",
    "        if i==i:\n",
    "            pass\n",
    "        if j==j:\n",
    "            pass\n",
    "        if j==i:\n",
    "            pass\n",
    "        if i and j == i and j:\n",
    "            pass\n",
    "        if j and i == j and i:\n",
    "            pass"
   ]
  },
  {
   "cell_type": "code",
   "execution_count": 7,
   "metadata": {},
   "outputs": [
    {
     "name": "stdout",
     "output_type": "stream",
     "text": [
      "Game 1 ['Team 2', 'Team 1']\n",
      "Game 2 ['Team 2', 'Team 1']\n",
      "Game 3 ['Team 3', 'Team 2']\n",
      "Game 4 ['Team 4', 'Team 2']\n"
     ]
    }
   ],
   "source": [
    "#3rd\n",
    "#another variant\n",
    "Friends = [\"Team 1\", \"Team 2\", \"Team 3\", \"Team 4\"]\n",
    "count_2 = 0\n",
    "for i in Friends:\n",
    "    count_2 = count_2 + 1 \n",
    "    choicess = random.choices(Friends, k=2)\n",
    "    print(f'Game {count_2}' ,choicess)\n",
    "            "
   ]
  },
  {
   "cell_type": "code",
   "execution_count": 8,
   "metadata": {},
   "outputs": [
    {
     "name": "stdout",
     "output_type": "stream",
     "text": [
      "Game.1 ['Team 2', 'Team 1']\n",
      "Game.2 ['Team 1', 'Team 2']\n",
      "Game.3 ['Team 2', 'Team 3']\n",
      "Game.4 ['Team 1', 'Team 4']\n",
      "Game.5 ['Team 3', 'Team 1']\n",
      "Game.6 ['Team 4', 'Team 2']\n",
      "Game.7 ['Team 1', 'Team 3']\n",
      "Game.8 ['Team 4', 'Team 3']\n",
      "Game.9 ['Team 2', 'Team 3']\n",
      "Game.10 ['Team 4', 'Team 1']\n",
      "Game.11 ['Team 2', 'Team 1']\n",
      "Game.12 ['Team 2', 'Team 1']\n",
      "Game.13 ['Team 4', 'Team 3']\n",
      "Game.14 ['Team 3', 'Team 2']\n",
      "Game.15 ['Team 1', 'Team 2']\n",
      "Game.16 ['Team 2', 'Team 3']\n"
     ]
    }
   ],
   "source": [
    "#3rd\n",
    "#another variant\n",
    "Friends = [\"Team 1\", \"Team 2\", \"Team 3\", \"Team 4\"]\n",
    "count_1 = 0\n",
    "for i in Friends:\n",
    "    for j in Friends:\n",
    "        if i == i:\n",
    "            count_1 = count_1 + 1\n",
    "            print(f\"Game.{count_1}\",random.sample(Friends,2))"
   ]
  },
  {
   "cell_type": "code",
   "execution_count": null,
   "metadata": {},
   "outputs": [],
   "source": []
  }
 ],
 "metadata": {
  "kernelspec": {
   "display_name": "Python 3",
   "language": "python",
   "name": "python3"
  },
  "language_info": {
   "codemirror_mode": {
    "name": "ipython",
    "version": 3
   },
   "file_extension": ".py",
   "mimetype": "text/x-python",
   "name": "python",
   "nbconvert_exporter": "python",
   "pygments_lexer": "ipython3",
   "version": "3.7.9"
  }
 },
 "nbformat": 4,
 "nbformat_minor": 4
}

{
 "cells": [
  {
   "cell_type": "code",
   "execution_count": 39,
   "metadata": {},
   "outputs": [],
   "source": [
    "import requests\n",
    "from bs4 import BeautifulSoup as BS\n",
    "url='http://adilet.zan.kz/rus/docs/V20T0004656'\n",
    "import pandas as pd"
   ]
  },
  {
   "cell_type": "code",
   "execution_count": 40,
   "metadata": {},
   "outputs": [],
   "source": [
    "def get_html(url,params=None):\n",
    "    r = requests.get(url,headers=0,params=params)\n",
    "    return r"
   ]
  },
  {
   "cell_type": "code",
   "execution_count": null,
   "metadata": {},
   "outputs": [],
   "source": []
  },
  {
   "cell_type": "code",
   "execution_count": 67,
   "metadata": {},
   "outputs": [],
   "source": [
    "def get_content(html):\n",
    "    soup=BS(html,'html.parser')\n",
    "    items=soup.find_all('table')\n",
    "    cars=[]\n",
    "    for item in items:\n",
    "        cars.append({\n",
    "            item.find('tr'==0).get_text(strip=True), \n",
    "        })\n",
    "        print(cars)"
   ]
  },
  {
   "cell_type": "code",
   "execution_count": 68,
   "metadata": {},
   "outputs": [],
   "source": [
    "def parse():\n",
    "    html=get_html(url)\n",
    "    cars=get_content(html.text)\n",
    "    "
   ]
  },
  {
   "cell_type": "code",
   "execution_count": 69,
   "metadata": {},
   "outputs": [
    {
     "name": "stdout",
     "output_type": "stream",
     "text": [
      "[{'Аким Атырауской областиМ. Досмухамбетов'}]\n",
      "[{'Аким Атырауской областиМ. Досмухамбетов'}, {'Приложение 1 к постановлени'}]\n",
      "[{'Аким Атырауской областиМ. Досмухамбетов'}, {'Приложение 1 к постановлени'}, {'№Виды субсидируемых удобренийСодержание действующих веществ в удобрении, %Единица измеренияНорма субсидий, тенге/ тонна, литр, килограмм'}]\n",
      "[{'Аким Атырауской областиМ. Досмухамбетов'}, {'Приложение 1 к постановлени'}, {'№Виды субсидируемых удобренийСодержание действующих веществ в удобрении, %Единица измеренияНорма субсидий, тенге/ тонна, литр, килограмм'}, {'Приложение 2 к постановлению'}]\n",
      "[{'Аким Атырауской областиМ. Досмухамбетов'}, {'Приложение 1 к постановлени'}, {'№Виды субсидируемых удобренийСодержание действующих веществ в удобрении, %Единица измеренияНорма субсидий, тенге/ тонна, литр, килограмм'}, {'Приложение 2 к постановлению'}, {'№Наименование областиОбъем субсидии, тенге'}]\n"
     ]
    }
   ],
   "source": [
    "parse()"
   ]
  },
  {
   "cell_type": "code",
   "execution_count": null,
   "metadata": {},
   "outputs": [],
   "source": []
  },
  {
   "cell_type": "code",
   "execution_count": null,
   "metadata": {},
   "outputs": [],
   "source": []
  }
 ],
 "metadata": {
  "kernelspec": {
   "display_name": "Python 3",
   "language": "python",
   "name": "python3"
  },
  "language_info": {
   "codemirror_mode": {
    "name": "ipython",
    "version": 3
   },
   "file_extension": ".py",
   "mimetype": "text/x-python",
   "name": "python",
   "nbconvert_exporter": "python",
   "pygments_lexer": "ipython3",
   "version": "3.7.6"
  }
 },
 "nbformat": 4,
 "nbformat_minor": 4
}

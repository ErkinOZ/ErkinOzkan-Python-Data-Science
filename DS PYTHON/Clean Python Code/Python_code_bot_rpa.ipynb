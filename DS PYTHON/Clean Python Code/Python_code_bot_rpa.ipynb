{
 "cells": [
  {
   "cell_type": "code",
   "execution_count": 1,
   "metadata": {},
   "outputs": [],
   "source": [
    "import pandas as pd\n",
    "import numpy as np\n",
    "import nn\n",
    "import nlu\n",
    "import pyttsx3"
   ]
  },
  {
   "cell_type": "code",
   "execution_count": 2,
   "metadata": {},
   "outputs": [
    {
     "name": "stdout",
     "output_type": "stream",
     "text": [
      "What is your name?: Erkіn\n",
      "Erkіn Good day! This is company X, we are conducting a customer satisfaction survey. May I ask if it is convenient for you to talk now?Yes\n",
      "Could you please tell us if you are ready to recommend our company to your friends? Please rate on a scale from '0' to '10', where '0' means I wouldn't recommend, and '10' means I would definitely recommend.10\n",
      "Great! Thank you very much for your time! Goodbye!\n"
     ]
    }
   ],
   "source": [
    "#For implementing this script, I did not use neural networks,\n",
    "#Please run these blocks and I think the task meets the requirements \n",
    "#!Note, I also created a Telegram bot based on AI for your task,\n",
    "#It was more interesting\n",
    "#Link to the bot in the email message!\n",
    "#By the way, nlu is no longer supported in Python 3.9\n",
    "###################################3\n",
    "da = ['Yes','yes','agree','good','okay','ok','okay']\n",
    "net = ['no','No','no need','nah','no thanks','nope','busy','Busy']\n",
    "repit = ['again','could you repeat please','Again']\n",
    "\n",
    "######################################\n",
    "def hello_logic(hello):\n",
    "    if  hello:\n",
    "        engine = pyttsx3.init()\n",
    "        engine.say(f'{hello} Good day! This is company X, we are conducting a customer satisfaction survey. May I ask if it is convenient for you to talk now?')\n",
    "        engine.runAndWait()\n",
    "        hello_null = input(f'{hello} Good day! This is company X, we are conducting a customer satisfaction survey. May I ask if it is convenient for you to talk now?')\n",
    "        for i in da:\n",
    "            if hello_null == i:\n",
    "                #print('da')\n",
    "                recommend_main(hello_null)\n",
    "        for j in net:\n",
    "            if hello_null == j:\n",
    "                #print('net')\n",
    "                hangup_wrong_time(hello_null)\n",
    "        for n in repit:\n",
    "            if hello_null == n:\n",
    "                hangup_repit(hello_null)\n",
    "    #else: \n",
    "#########################################\n",
    "\n",
    "def recommend_main(hello_null):\n",
    "    engine = pyttsx3.init()\n",
    "    engine.say('Could you please tell us if you are ready to recommend our company to your friends? Please rate on a scale from \"0\" to \"10\", where \"0\" means I wouldn\'t recommend, and \"10\" means I would definitely recommend.')\n",
    "    engine.runAndWait()\n",
    "    recommend_main_1 = int(input('Could you please tell us if you are ready to recommend our company to your friends? Please rate on a scale from \"0\" to \"10\", where \"0\" means I wouldn\'t recommend, and \"10\" means I would definitely recommend.'))\n",
    "    if recommend_main_1 <= 8:\n",
    "        hangup_negative(recommend_main_1)\n",
    "    if recommend_main_1 == 9 or 10:\n",
    "        hangup_positive(recommend_main_1)\n",
    "####################################\n",
    "\n",
    "\n",
    "def hangup_negative(recommend_main_1):\n",
    "    if recommend_main_1:\n",
    "        engine = pyttsx3.init()\n",
    "        engine.say('I understand. Anyway, thank you very much for your time! Goodbye.')\n",
    "        engine.runAndWait()\n",
    "        print('I understand. Anyway, thank you very much for your time! Goodbye.')\n",
    "\n",
    "        \n",
    "def hangup_positive(recommend_main_1):\n",
    "    if recommend_main_1:\n",
    "        engine = pyttsx3.init()\n",
    "        engine.say('Great! Thank you very much for your time! Goodbye!')\n",
    "        engine.runAndWait()\n",
    "        print('Great! Thank you very much for your time! Goodbye!')\n",
    "    \n",
    "\n",
    "#####################################\n",
    "\n",
    "def hangup_repit(hello_null):\n",
    "    hello_logic(hello_null)\n",
    "    \n",
    "#####################################\n",
    "def hangup_wrong_time(hello_null):\n",
    "    engine = pyttsx3.init()\n",
    "    engine.say('Sorry for the inconvenience. Goodbye')\n",
    "    engine.runAndWait()\n",
    "    print('Sorry for the inconvenience. Goodbye') \n",
    "    \n",
    "#######################\n",
    "#def hangup_null():\n",
    "\n",
    "######################\n",
    "while True:\n",
    "    hello = input('What is your name?: ')\n",
    "    hello_logic(hello)\n",
    "    break;\n",
    "    "
   ]
  },
  {
   "cell_type": "code",
   "execution_count": 5,
   "metadata": {},
   "outputs": [],
   "source": []
  },
  {
   "cell_type": "code",
   "execution_count": 6,
   "metadata": {},
   "outputs": [],
   "source": []
  },
  {
   "cell_type": "code",
   "execution_count": null,
   "metadata": {},
   "outputs": [],
   "source": []
  }
 ],
 "metadata": {
  "kernelspec": {
   "display_name": "Python 3",
   "language": "python",
   "name": "python3"
  },
  "language_info": {
   "codemirror_mode": {
    "name": "ipython",
    "version": 3
   },
   "file_extension": ".py",
   "mimetype": "text/x-python",
   "name": "python",
   "nbconvert_exporter": "python",
   "pygments_lexer": "ipython3",
   "version": "3.7.9"
  }
 },
 "nbformat": 4,
 "nbformat_minor": 4
}

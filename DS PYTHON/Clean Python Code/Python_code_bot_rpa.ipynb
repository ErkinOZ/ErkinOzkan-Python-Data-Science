{
 "cells": [
  {
   "cell_type": "code",
   "execution_count": 1,
   "metadata": {},
   "outputs": [],
   "source": [
    "import pandas as pd\n",
    "import numpy as np\n",
    "import nn\n",
    "import nlu\n",
    "import pyttsx3"
   ]
  },
  {
   "cell_type": "code",
   "execution_count": 2,
   "metadata": {},
   "outputs": [
    {
     "name": "stdout",
     "output_type": "stream",
     "text": [
      "Как вас зовут?: Еркин\n",
      "Еркин Добрый день! Вас беспокоит компания X, мы проводим опрос удовлетворенности нашими услугами.  Подскажите, вам удобно сейчас говорить?Да\n",
      "Скажите, а готовы ли вы рекомендовать нашу компанию своим друзьям? Оцените, пожалуйста, по шкале от «0» до «10», где «0» - не буду рекомендовать, «10» - обязательно порекомендую.10\n",
      "Отлично!  Большое спасибо за уделенное время! Всего вам доброго!\n"
     ]
    }
   ],
   "source": [
    "#Для реализаций такого скрипта я использовал без нейронки,\n",
    "#Запустите пожалуйста эти блоки и думаю задача совместима с требованиями \n",
    "#!Внимание , я еще создал телеграмм бота на ИИ,  по вашей задаче,\n",
    "#Это было интререснее\n",
    "#Ссылка на бота в сообщений почты!\n",
    "#Кстати, nlu уже не поддерживается на python 3.9\n",
    "###################################3\n",
    "da = ['Да','да','согласен','хорошо','ага','ок','окей']\n",
    "net = ['нет','Нет','не надо','неа','не нужно','нет спасибо','неа','занят','Занят']\n",
    "repit = ['еще раз','можете повторить пожалуйста','Еще раз']\n",
    "\n",
    "######################################\n",
    "def hello_logic(hello):\n",
    "    if  hello:\n",
    "        engine = pyttsx3.init()\n",
    "        engine.say(f'{hello} Добрый день! Вас беспокоит компания X, мы проводим опрос удовлетворенности нашими услугами.  Подскажите, вам удобно сейчас говорить?')\n",
    "        engine.runAndWait()\n",
    "        hello_null = input(f'{hello} Добрый день! Вас беспокоит компания X, мы проводим опрос удовлетворенности нашими услугами.  Подскажите, вам удобно сейчас говорить?')\n",
    "        for i in da:\n",
    "            if hello_null == i:\n",
    "                #print('da')\n",
    "                recommend_main(hello_null)\n",
    "        for j in net:\n",
    "            if hello_null == j:\n",
    "                #print('net')\n",
    "                hangup_wrong_time(hello_null)\n",
    "        for n in repit:\n",
    "            if hello_null == n:\n",
    "                hangup_repit(hello_null)\n",
    "    #else: \n",
    "#########################################\n",
    "\n",
    "def recommend_main(hello_null):\n",
    "    engine = pyttsx3.init()\n",
    "    engine.say('Скажите, а готовы ли вы рекомендовать нашу компанию своим друзьям? Оцените, пожалуйста, по шкале от «0» до «10», где «0» - не буду рекомендовать, «10» - обязательно порекомендую.')\n",
    "    engine.runAndWait()\n",
    "    recommend_main_1 = int(input('Скажите, а готовы ли вы рекомендовать нашу компанию своим друзьям? Оцените, пожалуйста, по шкале от «0» до «10», где «0» - не буду рекомендовать, «10» - обязательно порекомендую.'))\n",
    "    if recommend_main_1 <= 8:\n",
    "        hangup_negative(recommend_main_1)\n",
    "    if recommend_main_1 == 9 or 10:\n",
    "        hangup_positive(recommend_main_1)\n",
    "####################################\n",
    "\n",
    "\n",
    "def hangup_negative(recommend_main_1):\n",
    "    if recommend_main_1:\n",
    "        engine = pyttsx3.init()\n",
    "        engine.say('Я вас понял. В любом случае большое спасибо за уделенное время!  Всего вам доброго. ')\n",
    "        engine.runAndWait()\n",
    "        print('Я вас понял. В любом случае большое спасибо за уделенное время!  Всего вам доброго. ')\n",
    "\n",
    "        \n",
    "def hangup_positive(recommend_main_1):\n",
    "    if recommend_main_1:\n",
    "        engine = pyttsx3.init()\n",
    "        engine.say('Отлично!  Большое спасибо за уделенное время! Всего вам доброго!')\n",
    "        engine.runAndWait()\n",
    "        print('Отлично!  Большое спасибо за уделенное время! Всего вам доброго!')\n",
    "    \n",
    "\n",
    "#####################################\n",
    "\n",
    "def hangup_repit(hello_null):\n",
    "    hello_logic(hello_null)\n",
    "    \n",
    "#####################################\n",
    "def hangup_wrong_time(hello_null):\n",
    "    engine = pyttsx3.init()\n",
    "    engine.say('Извините пожалуйста за беспокойство. Всего вам доброго')\n",
    "    engine.runAndWait()\n",
    "    print('Извините пожалуйста за беспокойство. Всего вам доброго') \n",
    "    \n",
    "#######################\n",
    "#def hangup_null():\n",
    "\n",
    "######################\n",
    "while True:\n",
    "    hello = input('Как вас зовут?: ')\n",
    "    hello_logic(hello)\n",
    "    break;\n",
    "    "
   ]
  },
  {
   "cell_type": "code",
   "execution_count": 5,
   "metadata": {},
   "outputs": [],
   "source": []
  },
  {
   "cell_type": "code",
   "execution_count": 6,
   "metadata": {},
   "outputs": [],
   "source": []
  },
  {
   "cell_type": "code",
   "execution_count": null,
   "metadata": {},
   "outputs": [],
   "source": []
  }
 ],
 "metadata": {
  "kernelspec": {
   "display_name": "Python 3",
   "language": "python",
   "name": "python3"
  },
  "language_info": {
   "codemirror_mode": {
    "name": "ipython",
    "version": 3
   },
   "file_extension": ".py",
   "mimetype": "text/x-python",
   "name": "python",
   "nbconvert_exporter": "python",
   "pygments_lexer": "ipython3",
   "version": "3.7.9"
  }
 },
 "nbformat": 4,
 "nbformat_minor": 4
}
